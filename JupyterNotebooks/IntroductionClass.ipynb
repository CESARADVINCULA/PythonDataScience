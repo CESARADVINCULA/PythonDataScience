{
 "cells": [
  {
   "cell_type": "code",
   "execution_count": 274,
   "metadata": {},
   "outputs": [
    {
     "name": "stdout",
     "output_type": "stream",
     "text": [
      "Welcome to First Edutronic Class\n",
      "This is a hello world\n",
      "10\n",
      "100\n"
     ]
    }
   ],
   "source": [
    "print(\"Welcome to First Edutronic Class\")\n",
    "#this is a comment inside of my Jupypter Notebook\n",
    "\n",
    "m=\"This is a hello world\"\n",
    "print(m)\n",
    "\n",
    "mm=10\n",
    "m=100\n",
    "\n",
    "print(mm)\n",
    "print(m)\n"
   ]
  },
  {
   "cell_type": "code",
   "execution_count": 279,
   "metadata": {},
   "outputs": [
    {
     "name": "stdout",
     "output_type": "stream",
     "text": [
      "Basic Operations\n",
      "10\n",
      "20\n",
      "are equals\n",
      "0\n",
      "XXYY\n",
      "[1, 2, 3, 4, 5, 6]\n",
      "4\n",
      "8\n",
      "2.0\n"
     ]
    }
   ],
   "source": [
    "print(\"Basic Operations\")\n",
    "\n",
    "x=10\n",
    "print(x)\n",
    "y=10\n",
    "print(x+y)\n",
    "z=x+y\n",
    "z=1\n",
    "if x==y : print(\"are equals\")\n",
    "else : print(\"are not equals\") \n",
    "    \n",
    "modNumber =10%2\n",
    "print(modNumber)\n",
    "\n",
    "xxx ='XX'\n",
    "YYYY = 'YY'\n",
    "print(xxx+YYYY)\n",
    "\n",
    "arrT=[1,2,3]\n",
    "arrZ=[4,5,6]\n",
    "arrUNION=arrT+arrZ\n",
    "\n",
    "print(arrUNION)\n",
    "\n",
    "numberQuarterd = 2 ** 2\n",
    "print(numberQuarterd)\n",
    "\n",
    "numberCube = 2 ** 3\n",
    "print(numberCube)\n",
    "\n",
    "numberSQRT = 4 ** (1/2)\n",
    "print(numberSQRT)\n"
   ]
  },
  {
   "cell_type": "code",
   "execution_count": 287,
   "metadata": {},
   "outputs": [
    {
     "name": "stdout",
     "output_type": "stream",
     "text": [
      "5\n",
      "16\n",
      "This simple printing by  CESAR ADVINCULA\n",
      "This simple printing by  Gretting Cesar\n",
      "MyFirstArguemnt\n"
     ]
    }
   ],
   "source": [
    "def sumVariables( a, b) :\n",
    "    return a+b\n",
    "\n",
    "print(sumVariables(2,3))\n",
    "\n",
    "\n",
    "def calcCuadra(n) : \n",
    "    return n*n\n",
    "\n",
    "print(calcCuadra(4) )\n",
    "\n",
    "\n",
    "#High Order Functions\n",
    "\n",
    "def simplePrint(x, y):\n",
    "  print(\"This simple printing by \",x, y)\n",
    "\n",
    "simplePrint(\"CESAR\",\"ADVINCULA\")\n",
    "\n",
    "\n",
    "def highOrderFunction(other, functionArgm, *args, **kwargs):\n",
    "  functionArgm(*args, **kwargs)\n",
    "  print(other)\n",
    "\n",
    "highOrderFunction('MyFirstArguemnt', simplePrint, 'Gretting', 'Cesar')\n"
   ]
  },
  {
   "cell_type": "code",
   "execution_count": 289,
   "metadata": {},
   "outputs": [
    {
     "name": "stdout",
     "output_type": "stream",
     "text": [
      "List Operations\n",
      "[10, 20, 30]\n",
      "1\n",
      "2\n",
      "3\n",
      "4\n",
      "5\n"
     ]
    }
   ],
   "source": [
    "print(\"List Operations\")\n",
    "\n",
    "myList=[10,20,30]\n",
    "print(myList)\n",
    "\n",
    "\n",
    "a=[]\n",
    "a.append(1)\n",
    "a.append(2)\n",
    "a.append(3)\n",
    "a.append(4)\n",
    "a.append(5)\n",
    "\n",
    "#print(a[0])\n",
    "#print(a[1])\n",
    "#print(a[2])\n",
    "#print(a[3])\n",
    "\n",
    "for elemmt in a :\n",
    "    print(elemmt)"
   ]
  },
  {
   "cell_type": "code",
   "execution_count": 291,
   "metadata": {},
   "outputs": [
    {
     "name": "stdout",
     "output_type": "stream",
     "text": [
      " c :  [1, 2, 5, 5, 6, 7, 8]\n",
      " c[0] :  1\n",
      " c[5] :  8\n",
      " len(a) :  2\n",
      " len(b) :  5\n",
      " len(c) :  7\n",
      " c.count(5) :  2\n"
     ]
    }
   ],
   "source": [
    "a =[1,2]\n",
    "b = [5,5,6,7,8]\n",
    "c = a+b\n",
    "\n",
    "print(' c : ',c)\n",
    "print(' c[0] : ',c[0])\n",
    "print(' c[5] : ',c[6])\n",
    "\n",
    "print(' len(a) : ',len(a))\n",
    "print(' len(b) : ',len(b))\n",
    "print(' len(c) : ',len(c))\n",
    "\n",
    "print(' c.count(5) : ',c.count(5))"
   ]
  },
  {
   "cell_type": "code",
   "execution_count": 297,
   "metadata": {},
   "outputs": [
    {
     "name": "stdout",
     "output_type": "stream",
     "text": [
      "String Manipulations\n",
      "Hello, John Cesar \n",
      "Hello,  John !\n",
      "A list: [1, 2, 3]\n"
     ]
    }
   ],
   "source": [
    "print(\"String Manipulations\")\n",
    "\n",
    "name = \"John\"\n",
    "name2 = \"Cesar\"\n",
    "print(\"Hello, %s %s \" % (name,name2))\n",
    "print(\"Hello, \",name,\"!\" )\n",
    "\n",
    "mylist = [1,2,3]\n",
    "print(\"A list: %s\" % mylist)"
   ]
  },
  {
   "cell_type": "code",
   "execution_count": 298,
   "metadata": {},
   "outputs": [
    {
     "name": "stdout",
     "output_type": "stream",
     "text": [
      "Hello, Cesar , From My Function!, I wish you HelloGretting\n",
      "11\n",
      "10\n",
      "Number is even\n",
      "Number is odd\n"
     ]
    }
   ],
   "source": [
    "#Functions in Python\n",
    "\n",
    "def sayHelloWorld(person, regards ):\n",
    " print(\"Hello, %s , From My Function!, I wish you %s\"%(person,regards  ))\n",
    "\n",
    "sayHelloWorld(\"Cesar\",\"HelloGretting\")\n",
    "\n",
    "def sumTwoVariable( a, b):\n",
    "    print(a+b)\n",
    "\n",
    "sumTwoVariable(5,6)\n",
    "\n",
    "def checkName( n):\n",
    "    if(n==\"Israel\") : print(\"Say Hello\")\n",
    "    else : print(\"Say GoodBye\")\n",
    "\n",
    "def sumElement( primNum, segNum) : \n",
    "    return primNum + segNum\n",
    "\n",
    "def checkEvenOdd( n ) :\n",
    "    if(n%2==0) : print(\"Number is even\")\n",
    "    else : print(\"Number is odd\")\n",
    "\n",
    "print( 4 + sumElement(1,5))\n",
    "        \n",
    "checkEvenOdd(2)\n",
    "checkEvenOdd(7)\n",
    "\n"
   ]
  },
  {
   "cell_type": "code",
   "execution_count": 224,
   "metadata": {},
   "outputs": [
    {
     "name": "stdout",
     "output_type": "stream",
     "text": [
      "This is comming from the a Simple Function Gretting Cesar\n",
      "MyFirstArguemnt\n"
     ]
    }
   ],
   "source": [
    "#High Order Functions\n",
    "\n",
    "def simplePrint(x, y):\n",
    "  print(\"This is comming from the a Simple Function\",x, y)\n",
    "\n",
    "def highOrderFunction(other, functionArgm, *args, **kwargs):\n",
    "  functionArgm(*args, **kwargs)\n",
    "  print(other)\n",
    "\n",
    "highOrderFunction('MyFirstArguemnt', simplePrint, 'Gretting', 'Cesar')"
   ]
  },
  {
   "cell_type": "code",
   "execution_count": 300,
   "metadata": {},
   "outputs": [
    {
     "name": "stdout",
     "output_type": "stream",
     "text": [
      "apple\n",
      "banana\n",
      "cherry\n",
      "cherry\n",
      "banana\n",
      "apple\n",
      "1\n",
      "2\n",
      "3\n",
      "('apple', 'banana', 'cherry')\n",
      "('apple', 'kiwi', 'cherry')\n",
      "apple\n",
      "banana\n",
      "cherry\n"
     ]
    }
   ],
   "source": [
    "#TUPLE\n",
    "thistuple = (\"apple\", \"banana\", \"cherry\")\n",
    "print(thistuple[0])\n",
    "print(thistuple[1])\n",
    "print(thistuple[2])\n",
    "print(thistuple[-1])\n",
    "print(thistuple[-2])\n",
    "print(thistuple[-3])\n",
    "\n",
    "thisTupleNumber = (1,2,3)\n",
    "print(thisTupleNumber[0])\n",
    "print(thisTupleNumber[1])\n",
    "print(thisTupleNumber[2])\n",
    "\n",
    "\n",
    "\n",
    "#print(thistuple[3])\n",
    "\n",
    "x = (\"apple\", \"banana\", \"cherry\")\n",
    "y = list(x)\n",
    "print(x)\n",
    "\n",
    "y[1] = \"kiwi\"\n",
    "x = tuple(y)\n",
    "\n",
    "print(x)\n",
    "\n",
    "thistupleA = (\"apple\", \"banana\", \"cherry\")\n",
    "\n",
    "for elemnt in thistupleA:\n",
    "  print(elemnt)\n"
   ]
  },
  {
   "cell_type": "code",
   "execution_count": 304,
   "metadata": {},
   "outputs": [
    {
     "name": "stdout",
     "output_type": "stream",
     "text": [
      "('apple', 'banana', 'cherry')\n",
      "['apple', 'orange', 'cherry']\n"
     ]
    }
   ],
   "source": [
    "#YOU CANNOT ADD BECAUSE TUPLE IS INMUTABLE\n",
    "#YOU CAN CHANGE VALUE INSIDE THIS DATA STRUCTURE BUT NOT INSIDE THE TUPLE\n",
    "\n",
    "thistuple = (\"apple\", \"banana\", \"cherry\")\n",
    "#thistuple[1] = \"orange\" # This will raise an error\n",
    "print(thistuple)\n",
    "\n",
    "thisList = [\"apple\", \"banana\", \"cherry\"]\n",
    "thisList[1] = \"orange\"\n",
    "print(thisList)\n"
   ]
  },
  {
   "cell_type": "code",
   "execution_count": 305,
   "metadata": {},
   "outputs": [
    {
     "name": "stdout",
     "output_type": "stream",
     "text": [
      "While - Loop\n",
      "0\n",
      "1\n",
      "2\n",
      "3\n",
      "4\n",
      "For - Loop\n",
      "1\n"
     ]
    }
   ],
   "source": [
    "#Check Loops \n",
    "\n",
    "print(\"While - Loop\")\n",
    "count = 0\n",
    "while count < 5:\n",
    "    print(count)\n",
    "    count += 1 \n",
    "\n",
    "print(\"For - Loop\")\n",
    "newList=[1,2,3,4]   \n",
    "\n",
    "for element in newList :\n",
    "    if(element==2) : break\n",
    "    print(element)"
   ]
  },
  {
   "cell_type": "code",
   "execution_count": 306,
   "metadata": {},
   "outputs": [
    {
     "name": "stdout",
     "output_type": "stream",
     "text": [
      "{'John': 938477569, 'Jack': 938377264, 'Jill': 947662781}\n",
      "938477569\n",
      "938377264\n",
      "947662781\n",
      "{'1': 938477566, '2': 938377264, '3': 947662781}\n",
      "938477566\n",
      "938377264\n",
      "947662781\n",
      "{1: 938477566, 2: 938377264, 3: 947662781}\n",
      "938477566\n",
      "938377264\n",
      "947662781\n"
     ]
    }
   ],
   "source": [
    "# The dictionaries are Key Value\n",
    "\n",
    "phonebook = {\n",
    "    \"John\" : 938477566,\n",
    "    \"Jack\" : 938377264,\n",
    "    \"Jill\" : 947662781\n",
    "}\n",
    "\n",
    "print(phonebook)\n",
    "print(phonebook[\"John\"])\n",
    "print(phonebook[\"Jack\"])\n",
    "print(phonebook[\"Jill\"])\n",
    "\n",
    "\n",
    "phonebookByID = {\n",
    "    \"1\" : 938477566,\n",
    "    \"2\" : 938377264,\n",
    "    \"3\" : 947662781\n",
    "}\n",
    "\n",
    "print(phonebookByID)\n",
    "print(phonebookByID[\"1\"])\n",
    "print(phonebookByID[\"2\"])\n",
    "print(phonebookByID[\"3\"])\n",
    "\n",
    "\n",
    "phonebookByID = {\n",
    "    1 : 938477566,\n",
    "    2 : 938377264,\n",
    "    3 : 947662781\n",
    "}\n",
    "\n",
    "print(phonebookByID)\n",
    "print(phonebookByID[1])\n",
    "print(phonebookByID[2])\n",
    "print(phonebookByID[3])\n"
   ]
  },
  {
   "cell_type": "code",
   "execution_count": 308,
   "metadata": {},
   "outputs": [
    {
     "name": "stdout",
     "output_type": "stream",
     "text": [
      "Recursion Fun\n",
      "0  1  1  2  3  5  8  13  21  "
     ]
    }
   ],
   "source": [
    "print(\"Recursion Fun\")\n",
    "\n",
    "def calFibonnaci( n ) :\n",
    "    def calFibonnaciIns(iniIter, FinIter, result, resultAnter ) :\n",
    "        if iniIter <= FinIter : \n",
    "                print(result,\" \" , end = '')\n",
    "                calFibonnaciIns(iniIter +1 , FinIter, result + resultAnter, result )\n",
    "        else : result\n",
    "    calFibonnaciIns(1,n,0,1)\n",
    "\n",
    "calFibonnaci(9)"
   ]
  },
  {
   "cell_type": "code",
   "execution_count": 210,
   "metadata": {},
   "outputs": [
    {
     "name": "stdout",
     "output_type": "stream",
     "text": [
      "Recursion Fun\n",
      "calFactorial  6\n"
     ]
    }
   ],
   "source": [
    "print(\"Recursion Fun\")\n",
    "\n",
    "def factorial_recursive(n):\n",
    "    if n == 1:\n",
    "        return 1\n",
    "    else:\n",
    "        return n * factorial_recursive(n-1)\n",
    "\n",
    "print(\"calFactorial \",factorial_recursive(3))"
   ]
  },
  {
   "cell_type": "code",
   "execution_count": 209,
   "metadata": {},
   "outputs": [
    {
     "data": {
      "text/plain": [
       "'Hello Iam Variable'"
      ]
     },
     "execution_count": 209,
     "metadata": {},
     "output_type": "execute_result"
    }
   ],
   "source": [
    "class MyClass:\n",
    "    variableInsiClass = \"Hello Iam Variable\"\n",
    "\n",
    "    def functionMyClass():\n",
    "        print(\"This is a message inside the class.\")\n",
    "\n",
    "myobjectx = MyClass()\n",
    "\n",
    "myobjectx.variableInsiClass"
   ]
  },
  {
   "cell_type": "code",
   "execution_count": 241,
   "metadata": {},
   "outputs": [
    {
     "name": "stdout",
     "output_type": "stream",
     "text": [
      "<class 'numpy.ndarray'>\n",
      "(3,)\n",
      "1 2 3\n",
      "[5 2 3]\n"
     ]
    }
   ],
   "source": [
    "#Changing numPy\n",
    "import numpy as np\n",
    "\n",
    "a = np.array([1, 2, 3])   # Create a rank 1 array\n",
    "print(type(a))            # Prints \"<class 'numpy.ndarray'>\"\n",
    "print(a.shape)            # Prints \"(3,)\"\n",
    "print(a[0], a[1], a[2])   # Prints \"1 2 3\"\n",
    "a[0] = 5                  # Change an element of the array\n",
    "print(a)                  # Prints \"[5, 2, 3]\""
   ]
  },
  {
   "cell_type": "code",
   "execution_count": 309,
   "metadata": {},
   "outputs": [
    {
     "name": "stdout",
     "output_type": "stream",
     "text": [
      "[[0. 0. 0.]\n",
      " [0. 0. 0.]]\n"
     ]
    }
   ],
   "source": [
    "#Import numPy as NP\n",
    "import numpy as np\n",
    "\n",
    "a = np.zeros((2,3))   # Create an array of all zeros\n",
    "print(a)              # Prints \"[[ 0.  0.]\n",
    "                      #          [ 0.  0.]]\""
   ]
  },
  {
   "cell_type": "code",
   "execution_count": 254,
   "metadata": {},
   "outputs": [
    {
     "name": "stdout",
     "output_type": "stream",
     "text": [
      "[[1. 1.]]\n"
     ]
    }
   ],
   "source": [
    "b = np.ones((1,2))    # Create an array of all ones\n",
    "print(b)              # Prints \"[[ 1.  1.]]\"\n",
    "\n"
   ]
  },
  {
   "cell_type": "code",
   "execution_count": 255,
   "metadata": {},
   "outputs": [
    {
     "name": "stdout",
     "output_type": "stream",
     "text": [
      "[[7 7]\n",
      " [7 7]]\n"
     ]
    }
   ],
   "source": [
    "c = np.full((2,2), 7)  # Create a constant array\n",
    "print(c)               # Prints \"[[ 7.  7.]\n",
    "                       #          [ 7.  7.]]\""
   ]
  },
  {
   "cell_type": "code",
   "execution_count": 256,
   "metadata": {},
   "outputs": [
    {
     "name": "stdout",
     "output_type": "stream",
     "text": [
      "[[1. 0.]\n",
      " [0. 1.]]\n"
     ]
    }
   ],
   "source": [
    "d = np.eye(2)         # Create a 2x2 identity matrix\n",
    "print(d)              # Prints \"[[ 1.  0.]\n",
    "                      #          [ 0.  1.]]\"\n"
   ]
  },
  {
   "cell_type": "code",
   "execution_count": 257,
   "metadata": {},
   "outputs": [
    {
     "name": "stdout",
     "output_type": "stream",
     "text": [
      "[[0.52928939 0.78065422]\n",
      " [0.31485172 0.465139  ]]\n"
     ]
    }
   ],
   "source": [
    "e = np.random.random((2,2))  # Create an array filled with random values\n",
    "print(e)                     # Might print \"[[ 0.91940167  0.08143941]"
   ]
  },
  {
   "cell_type": "code",
   "execution_count": 311,
   "metadata": {},
   "outputs": [
    {
     "name": "stdout",
     "output_type": "stream",
     "text": [
      "[[False False]\n",
      " [ True  True]\n",
      " [ True  True]]\n",
      "[3 4 5 6]\n",
      "[5 6]\n"
     ]
    }
   ],
   "source": [
    "import numpy as np\n",
    "\n",
    "a = np.array([[1,2], [3, 4], [5, 6]])\n",
    "\n",
    "bool_idx = (a > 2)   # Find the elements of a that are bigger than 2;\n",
    "                     # this returns a numpy array of Booleans of the same\n",
    "                     # shape as a, where each slot of bool_idx tells\n",
    "                     # whether that element of a is > 2.\n",
    "\n",
    "print(bool_idx)      # Prints \"[[False False]\n",
    "                     #          [ True  True]\n",
    "                     #          [ True  True]]\"\n",
    "\n",
    "# We use boolean array indexing to construct a rank 1 array\n",
    "# consisting of the elements of a corresponding to the True values\n",
    "# of bool_idx\n",
    "print(a[bool_idx])  # Prints \"[3 4 5 6]\"\n",
    "\n",
    "# We can do all of the above in a single concise statement:\n",
    "print(a[a >= 5])     # Prints \"[3 4 5 6]\""
   ]
  },
  {
   "cell_type": "code",
   "execution_count": 238,
   "metadata": {},
   "outputs": [
    {
     "name": "stdout",
     "output_type": "stream",
     "text": [
      "[1.87 1.87 1.82 1.91 1.9  1.85]\n",
      "[81.65 97.52 95.25 92.98 86.18 88.45]\n",
      "<class 'numpy.ndarray'>\n"
     ]
    }
   ],
   "source": [
    "#Numpy\n",
    "\n",
    "#Some of the key advantages of Numpy arrays are that they are fast, \n",
    "#easy to work with, and give users the opportunity to perform calculations across entire arrays.\n",
    "\n",
    "# Create 2 new lists height and weight\n",
    "height = [1.87,  1.87, 1.82, 1.91, 1.90, 1.85]\n",
    "weight = [81.65, 97.52, 95.25, 92.98, 86.18, 88.45]\n",
    "\n",
    "# Import the numpy package as np\n",
    "import numpy as np\n",
    "\n",
    "# Create 2 numpy arrays from height and weight\n",
    "np_height = np.array(height)\n",
    "np_weight = np.array(weight)\n",
    "\n",
    "print(np_height)\n",
    "print(np_weight)\n",
    "print(type(np_height))\n"
   ]
  },
  {
   "cell_type": "code",
   "execution_count": 261,
   "metadata": {},
   "outputs": [
    {
     "name": "stdout",
     "output_type": "stream",
     "text": [
      "[ 6  8 10 12]\n",
      "[ 6  8 10 12]\n"
     ]
    }
   ],
   "source": [
    "#Numpy\n",
    "\n",
    "import numpy as np\n",
    "\n",
    "x1 = np.array([1,2,3,4])\n",
    "y2 = np.array([5,6,7,8])\n",
    "\n",
    "\n",
    "print(x1 + y2)\n",
    "\n",
    "print(np.add(x1, y2))"
   ]
  },
  {
   "cell_type": "code",
   "execution_count": 262,
   "metadata": {},
   "outputs": [
    {
     "name": "stdout",
     "output_type": "stream",
     "text": [
      "[[ 6.  8.]\n",
      " [10. 12.]]\n",
      "[[ 6.  8.]\n",
      " [10. 12.]]\n"
     ]
    }
   ],
   "source": [
    "#Numpy\n",
    "\n",
    "import numpy as np\n",
    "\n",
    "x = np.array([[1,2],[3,4]], dtype=np.float64)\n",
    "y = np.array([[5,6],[7,8]], dtype=np.float64)\n",
    "\n",
    "# Elementwise sum; both produce the array\n",
    "# [[ 6.0  8.0]\n",
    "#  [10.0 12.0]]\n",
    "print(x + y)\n",
    "\n",
    "print(np.add(x, y))\n"
   ]
  },
  {
   "cell_type": "code",
   "execution_count": null,
   "metadata": {},
   "outputs": [],
   "source": [
    "\n",
    "# Elementwise difference; both produce the array\n",
    "# [[-4.0 -4.0]\n",
    "#  [-4.0 -4.0]]\n",
    "print(x - y)\n",
    "print(np.subtract(x, y))"
   ]
  },
  {
   "cell_type": "code",
   "execution_count": null,
   "metadata": {},
   "outputs": [],
   "source": [
    "# Elementwise product; both produce the array\n",
    "# [[ 5.0 12.0]\n",
    "#  [21.0 32.0]]\n",
    "print(x * y)\n",
    "print(np.multiply(x, y))\n",
    "\n"
   ]
  },
  {
   "cell_type": "code",
   "execution_count": 263,
   "metadata": {},
   "outputs": [
    {
     "name": "stdout",
     "output_type": "stream",
     "text": [
      "[[0.2        0.33333333]\n",
      " [0.42857143 0.5       ]]\n",
      "[[0.2        0.33333333]\n",
      " [0.42857143 0.5       ]]\n"
     ]
    }
   ],
   "source": [
    "# Elementwise division; both produce the array\n",
    "# [[ 0.2         0.33333333]\n",
    "#  [ 0.42857143  0.5       ]]\n",
    "print(x / y)\n",
    "print(np.divide(x, y))\n",
    "\n"
   ]
  },
  {
   "cell_type": "code",
   "execution_count": 264,
   "metadata": {},
   "outputs": [
    {
     "name": "stdout",
     "output_type": "stream",
     "text": [
      "[[1.         1.41421356]\n",
      " [1.73205081 2.        ]]\n"
     ]
    }
   ],
   "source": [
    "# Elementwise square root; produces the array\n",
    "# [[ 1.          1.41421356]\n",
    "#  [ 1.73205081  2.        ]]\n",
    "print(np.sqrt(x))"
   ]
  },
  {
   "cell_type": "code",
   "execution_count": 239,
   "metadata": {},
   "outputs": [
    {
     "name": "stdout",
     "output_type": "stream",
     "text": [
      "        country    capital    area  population\n",
      "0        Brazil   Brasilia   8.516      200.40\n",
      "1        Russia     Moscow  17.100      143.50\n",
      "2         India  New Dehli   3.286     1252.00\n",
      "3         China    Beijing   9.597     1357.00\n",
      "4  South Africa   Pretoria   1.221       52.98\n"
     ]
    }
   ],
   "source": [
    "#Pandas\n",
    "\n",
    "dict = {\"country\": [\"Brazil\", \"Russia\", \"India\", \"China\", \"South Africa\"],\n",
    "       \"capital\": [\"Brasilia\", \"Moscow\", \"New Dehli\", \"Beijing\", \"Pretoria\"],\n",
    "       \"area\": [8.516, 17.10, 3.286, 9.597, 1.221],\n",
    "       \"population\": [200.4, 143.5, 1252, 1357, 52.98] }\n",
    "\n",
    "import pandas as pd\n",
    "brics = pd.DataFrame(dict)\n",
    "print(brics)"
   ]
  },
  {
   "cell_type": "code",
   "execution_count": null,
   "metadata": {},
   "outputs": [],
   "source": []
  }
 ],
 "metadata": {
  "kernelspec": {
   "display_name": "Python 3",
   "language": "python",
   "name": "python3"
  },
  "language_info": {
   "codemirror_mode": {
    "name": "ipython",
    "version": 3
   },
   "file_extension": ".py",
   "mimetype": "text/x-python",
   "name": "python",
   "nbconvert_exporter": "python",
   "pygments_lexer": "ipython3",
   "version": "3.7.4"
  }
 },
 "nbformat": 4,
 "nbformat_minor": 2
}
