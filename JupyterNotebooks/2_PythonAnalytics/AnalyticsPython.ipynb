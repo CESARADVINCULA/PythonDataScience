{
 "cells": [
  {
   "cell_type": "code",
   "execution_count": 3,
   "metadata": {},
   "outputs": [
    {
     "name": "stdout",
     "output_type": "stream",
     "text": [
      "1\n",
      "2\n",
      "3\n",
      "4\n",
      "5\n"
     ]
    }
   ],
   "source": [
    "i =1 \n",
    "while i < 6 :\n",
    "    print(i)\n",
    "    i += 1"
   ]
  },
  {
   "cell_type": "code",
   "execution_count": 5,
   "metadata": {},
   "outputs": [
    {
     "name": "stdout",
     "output_type": "stream",
     "text": [
      "1\n",
      "2\n",
      "3\n"
     ]
    }
   ],
   "source": [
    "i =1 \n",
    "while i < 6 :\n",
    "    print(i)\n",
    "    if i == 3 :\n",
    "        break\n",
    "    i += 1"
   ]
  },
  {
   "cell_type": "code",
   "execution_count": 1,
   "metadata": {},
   "outputs": [
    {
     "name": "stdout",
     "output_type": "stream",
     "text": [
      "1\n",
      "2\n",
      "4\n",
      "5\n",
      "6\n"
     ]
    }
   ],
   "source": [
    "i = 0\n",
    "while i < 6:\n",
    "    i += 1\n",
    "    if i == 3:\n",
    "        continue\n",
    "    print(i)"
   ]
  },
  {
   "cell_type": "code",
   "execution_count": 2,
   "metadata": {},
   "outputs": [
    {
     "name": "stdout",
     "output_type": "stream",
     "text": [
      "0\n",
      "1\n",
      "2\n",
      "3\n",
      "4\n",
      "5\n",
      "6\n"
     ]
    }
   ],
   "source": [
    "for i in range(7) :\n",
    "    print(i)"
   ]
  },
  {
   "cell_type": "code",
   "execution_count": 3,
   "metadata": {},
   "outputs": [
    {
     "name": "stdout",
     "output_type": "stream",
     "text": [
      "1\n",
      "2\n",
      "3\n"
     ]
    }
   ],
   "source": [
    "for i in range(1,4) :\n",
    "    print(i)"
   ]
  },
  {
   "cell_type": "code",
   "execution_count": 4,
   "metadata": {},
   "outputs": [
    {
     "name": "stdout",
     "output_type": "stream",
     "text": [
      "1\n",
      "3\n",
      "5\n",
      "7\n",
      "9\n"
     ]
    }
   ],
   "source": [
    "for i in range(1,10,2) :\n",
    "    print(i)"
   ]
  },
  {
   "cell_type": "code",
   "execution_count": 5,
   "metadata": {},
   "outputs": [
    {
     "name": "stdout",
     "output_type": "stream",
     "text": [
      "E\n",
      "d\n",
      "u\n",
      "t\n",
      "r\n",
      "o\n",
      "n\n",
      "i\n",
      "c\n"
     ]
    }
   ],
   "source": [
    "for z in 'Edutronic' :\n",
    "    print(z)"
   ]
  },
  {
   "cell_type": "code",
   "execution_count": 1,
   "metadata": {},
   "outputs": [
    {
     "name": "stdout",
     "output_type": "stream",
     "text": [
      "Input a Number :3\n",
      "3x1=3\n",
      "3x2=6\n",
      "3x3=9\n",
      "3x4=12\n",
      "3x5=15\n",
      "3x6=18\n",
      "3x7=21\n",
      "3x8=24\n",
      "3x9=27\n",
      "3x10=30\n",
      "3x11=33\n",
      "3x12=36\n"
     ]
    }
   ],
   "source": [
    "n = int(input(\"Input a Number :\"))\n",
    "for i in range(1,13) :\n",
    "    print(str(n) + 'x' + str(i) + '='+str(n*i))"
   ]
  },
  {
   "cell_type": "code",
   "execution_count": 8,
   "metadata": {},
   "outputs": [
    {
     "name": "stdout",
     "output_type": "stream",
     "text": [
      "red apple\n",
      "red banana\n",
      "red cherry\n",
      "big apple\n",
      "big banana\n",
      "big cherry\n",
      "tasty apple\n",
      "tasty banana\n",
      "tasty cherry\n"
     ]
    }
   ],
   "source": [
    "adj = ['red', 'big', 'tasty']\n",
    "fruits = ['apple', 'banana', 'cherry']\n",
    "\n",
    "for x in adj :\n",
    "    for y in fruits :\n",
    "        print(x , y)"
   ]
  },
  {
   "cell_type": "code",
   "execution_count": 9,
   "metadata": {},
   "outputs": [
    {
     "name": "stdout",
     "output_type": "stream",
     "text": [
      "Hello Edutronic from function\n"
     ]
    }
   ],
   "source": [
    "#Functions\n",
    "\n",
    "def my_functions() :\n",
    "    print(\"Hello Edutronic from function\")\n",
    "\n",
    "my_functions()"
   ]
  },
  {
   "cell_type": "code",
   "execution_count": 3,
   "metadata": {},
   "outputs": [
    {
     "name": "stdout",
     "output_type": "stream",
     "text": [
      "Hello World\n",
      "Hello 1\n",
      "Hello Scala\n"
     ]
    }
   ],
   "source": [
    "def my_function(name):\n",
    "    print(\"Hello \"+ str(name))\n",
    "\n",
    "my_function(\"World\")\n",
    "my_function(1)\n",
    "my_function(\"Scala\")"
   ]
  },
  {
   "cell_type": "code",
   "execution_count": 5,
   "metadata": {},
   "outputs": [
    {
     "name": "stdout",
     "output_type": "stream",
     "text": [
      "Hello World\n",
      "Hello Python\n",
      "Hello Scala\n",
      "Hello ABC\n"
     ]
    }
   ],
   "source": [
    "def myFunctionList(parameterList) :\n",
    "    for element in parameterList:\n",
    "        print('Hello '+element)\n",
    "        \n",
    "myFunctionList(['World','Python','Scala','ABC'])"
   ]
  },
  {
   "cell_type": "code",
   "execution_count": 14,
   "metadata": {},
   "outputs": [
    {
     "name": "stdout",
     "output_type": "stream",
     "text": [
      "81\n"
     ]
    }
   ],
   "source": [
    "x = lambda  a : a +76\n",
    "print(x(5))\n"
   ]
  },
  {
   "cell_type": "code",
   "execution_count": 8,
   "metadata": {},
   "outputs": [
    {
     "name": "stdout",
     "output_type": "stream",
     "text": [
      "17\n",
      "4\n"
     ]
    }
   ],
   "source": [
    "x = lambda a , b ,c : a+b+c\n",
    "print(x(4,7,6))\n",
    "\n",
    "def sumTwoParm( a , b) :\n",
    "     return a+b\n",
    "\n",
    "print(sumTwoParm(1,3))\n"
   ]
  },
  {
   "cell_type": "code",
   "execution_count": 16,
   "metadata": {},
   "outputs": [
    {
     "name": "stdout",
     "output_type": "stream",
     "text": [
      "28\n"
     ]
    }
   ],
   "source": [
    "x = lambda a , b  : a * b\n",
    "print(x(4,7))"
   ]
  },
  {
   "cell_type": "code",
   "execution_count": 55,
   "metadata": {},
   "outputs": [
    {
     "data": {
      "text/html": [
       "<div>\n",
       "<style scoped>\n",
       "    .dataframe tbody tr th:only-of-type {\n",
       "        vertical-align: middle;\n",
       "    }\n",
       "\n",
       "    .dataframe tbody tr th {\n",
       "        vertical-align: top;\n",
       "    }\n",
       "\n",
       "    .dataframe thead th {\n",
       "        text-align: right;\n",
       "    }\n",
       "</style>\n",
       "<table border=\"1\" class=\"dataframe\">\n",
       "  <thead>\n",
       "    <tr style=\"text-align: right;\">\n",
       "      <th></th>\n",
       "      <th>name</th>\n",
       "      <th>year</th>\n",
       "      <th>reports</th>\n",
       "      <th>coverage</th>\n",
       "    </tr>\n",
       "  </thead>\n",
       "  <tbody>\n",
       "    <tr>\n",
       "      <td>Cochice</td>\n",
       "      <td>Jason</td>\n",
       "      <td>2012</td>\n",
       "      <td>4</td>\n",
       "      <td>25</td>\n",
       "    </tr>\n",
       "    <tr>\n",
       "      <td>Pima</td>\n",
       "      <td>Molly</td>\n",
       "      <td>2012</td>\n",
       "      <td>24</td>\n",
       "      <td>94</td>\n",
       "    </tr>\n",
       "    <tr>\n",
       "      <td>Santa Cruz</td>\n",
       "      <td>Tina</td>\n",
       "      <td>2013</td>\n",
       "      <td>31</td>\n",
       "      <td>57</td>\n",
       "    </tr>\n",
       "    <tr>\n",
       "      <td>Maricopa</td>\n",
       "      <td>Jake</td>\n",
       "      <td>2014</td>\n",
       "      <td>2</td>\n",
       "      <td>62</td>\n",
       "    </tr>\n",
       "    <tr>\n",
       "      <td>Yuma</td>\n",
       "      <td>Amy</td>\n",
       "      <td>2014</td>\n",
       "      <td>3</td>\n",
       "      <td>0</td>\n",
       "    </tr>\n",
       "  </tbody>\n",
       "</table>\n",
       "</div>"
      ],
      "text/plain": [
       "             name  year  reports  coverage\n",
       "Cochice     Jason  2012        4        25\n",
       "Pima        Molly  2012       24        94\n",
       "Santa Cruz   Tina  2013       31        57\n",
       "Maricopa     Jake  2014        2        62\n",
       "Yuma          Amy  2014        3         0"
      ]
     },
     "execution_count": 55,
     "metadata": {},
     "output_type": "execute_result"
    }
   ],
   "source": [
    "import pandas as pd\n",
    "import numpy as np\n",
    "\n",
    "data = {'name' : ['Jason', 'Molly', 'Tina', 'Jake', 'Amy'],\n",
    "        'year' : [2012, 2012, 2013, 2014, 2014] ,\n",
    "        'reports' : [ 4, 24, 31, 2 ,3],\n",
    "        'coverage' : [25 , 94 , 57, 62, 0]\n",
    "       }\n",
    "\n",
    "df = pd.DataFrame(data , index=[ 'Cochice', 'Pima', 'Santa Cruz', 'Maricopa', 'Yuma'])\n",
    "df\n"
   ]
  },
  {
   "cell_type": "code",
   "execution_count": 56,
   "metadata": {},
   "outputs": [
    {
     "data": {
      "text/plain": [
       "Cochice       JASON\n",
       "Pima          MOLLY\n",
       "Santa Cruz     TINA\n",
       "Maricopa       JAKE\n",
       "Yuma            AMY\n",
       "Name: name, dtype: object"
      ]
     },
     "execution_count": 56,
     "metadata": {},
     "output_type": "execute_result"
    }
   ],
   "source": [
    "capitalizer = lambda  x : x.upper()\n",
    "\n",
    "\n",
    "df['name'].apply(capitalizer)\n",
    "\n",
    "df['name'].map(capitalizer)"
   ]
  },
  {
   "cell_type": "code",
   "execution_count": 57,
   "metadata": {},
   "outputs": [
    {
     "data": {
      "text/html": [
       "<div>\n",
       "<style scoped>\n",
       "    .dataframe tbody tr th:only-of-type {\n",
       "        vertical-align: middle;\n",
       "    }\n",
       "\n",
       "    .dataframe tbody tr th {\n",
       "        vertical-align: top;\n",
       "    }\n",
       "\n",
       "    .dataframe thead th {\n",
       "        text-align: right;\n",
       "    }\n",
       "</style>\n",
       "<table border=\"1\" class=\"dataframe\">\n",
       "  <thead>\n",
       "    <tr style=\"text-align: right;\">\n",
       "      <th></th>\n",
       "      <th>year</th>\n",
       "      <th>reports</th>\n",
       "      <th>coverage</th>\n",
       "    </tr>\n",
       "  </thead>\n",
       "  <tbody>\n",
       "    <tr>\n",
       "      <td>Cochice</td>\n",
       "      <td>44.855323</td>\n",
       "      <td>2.000000</td>\n",
       "      <td>5.000000</td>\n",
       "    </tr>\n",
       "    <tr>\n",
       "      <td>Pima</td>\n",
       "      <td>44.855323</td>\n",
       "      <td>4.898979</td>\n",
       "      <td>9.695360</td>\n",
       "    </tr>\n",
       "    <tr>\n",
       "      <td>Santa Cruz</td>\n",
       "      <td>44.866469</td>\n",
       "      <td>5.567764</td>\n",
       "      <td>7.549834</td>\n",
       "    </tr>\n",
       "    <tr>\n",
       "      <td>Maricopa</td>\n",
       "      <td>44.877611</td>\n",
       "      <td>1.414214</td>\n",
       "      <td>7.874008</td>\n",
       "    </tr>\n",
       "    <tr>\n",
       "      <td>Yuma</td>\n",
       "      <td>44.877611</td>\n",
       "      <td>1.732051</td>\n",
       "      <td>0.000000</td>\n",
       "    </tr>\n",
       "  </tbody>\n",
       "</table>\n",
       "</div>"
      ],
      "text/plain": [
       "                 year   reports  coverage\n",
       "Cochice     44.855323  2.000000  5.000000\n",
       "Pima        44.855323  4.898979  9.695360\n",
       "Santa Cruz  44.866469  5.567764  7.549834\n",
       "Maricopa    44.877611  1.414214  7.874008\n",
       "Yuma        44.877611  1.732051  0.000000"
      ]
     },
     "execution_count": 57,
     "metadata": {},
     "output_type": "execute_result"
    }
   ],
   "source": [
    "df = df.drop('name', axis=1)\n",
    "df\n",
    "df.applymap(np.sqrt)"
   ]
  },
  {
   "cell_type": "code",
   "execution_count": 59,
   "metadata": {},
   "outputs": [
    {
     "data": {
      "text/html": [
       "<div>\n",
       "<style scoped>\n",
       "    .dataframe tbody tr th:only-of-type {\n",
       "        vertical-align: middle;\n",
       "    }\n",
       "\n",
       "    .dataframe tbody tr th {\n",
       "        vertical-align: top;\n",
       "    }\n",
       "\n",
       "    .dataframe thead th {\n",
       "        text-align: right;\n",
       "    }\n",
       "</style>\n",
       "<table border=\"1\" class=\"dataframe\">\n",
       "  <thead>\n",
       "    <tr style=\"text-align: right;\">\n",
       "      <th></th>\n",
       "      <th>year</th>\n",
       "      <th>reports</th>\n",
       "      <th>coverage</th>\n",
       "    </tr>\n",
       "  </thead>\n",
       "  <tbody>\n",
       "    <tr>\n",
       "      <td>Cochice</td>\n",
       "      <td>2012000</td>\n",
       "      <td>4000</td>\n",
       "      <td>25000.0</td>\n",
       "    </tr>\n",
       "    <tr>\n",
       "      <td>Pima</td>\n",
       "      <td>2012000</td>\n",
       "      <td>24000</td>\n",
       "      <td>94000.0</td>\n",
       "    </tr>\n",
       "    <tr>\n",
       "      <td>Santa Cruz</td>\n",
       "      <td>2013000</td>\n",
       "      <td>31000</td>\n",
       "      <td>57000.0</td>\n",
       "    </tr>\n",
       "    <tr>\n",
       "      <td>Maricopa</td>\n",
       "      <td>2014000</td>\n",
       "      <td>2000</td>\n",
       "      <td>62000.0</td>\n",
       "    </tr>\n",
       "    <tr>\n",
       "      <td>Yuma</td>\n",
       "      <td>2014000</td>\n",
       "      <td>3000</td>\n",
       "      <td>NaN</td>\n",
       "    </tr>\n",
       "  </tbody>\n",
       "</table>\n",
       "</div>"
      ],
      "text/plain": [
       "               year  reports  coverage\n",
       "Cochice     2012000     4000   25000.0\n",
       "Pima        2012000    24000   94000.0\n",
       "Santa Cruz  2013000    31000   57000.0\n",
       "Maricopa    2014000     2000   62000.0\n",
       "Yuma        2014000     3000       NaN"
      ]
     },
     "execution_count": 59,
     "metadata": {},
     "output_type": "execute_result"
    }
   ],
   "source": [
    "def times1000(x) :\n",
    "    if type(x) is str :\n",
    "        return x\n",
    "    elif x:\n",
    "        return 1000*x\n",
    "    else:\n",
    "        return\n",
    "    \n",
    "df.applymap(times1000)"
   ]
  },
  {
   "cell_type": "code",
   "execution_count": 1,
   "metadata": {},
   "outputs": [],
   "source": [
    "#SENTIMENT ANALYSIS\n",
    "\n",
    "#INSTALL THIS TWO PACKAGE TWEEPY AND TEXTBLOB\n",
    "#conda install -c conda-forge tweepy\n",
    "#conda install -c conda-forge textblob"
   ]
  },
  {
   "cell_type": "code",
   "execution_count": 20,
   "metadata": {},
   "outputs": [],
   "source": [
    "import tweepy #TO CHECK IF THE PACKAGE IS AVAILABLE"
   ]
  },
  {
   "cell_type": "code",
   "execution_count": 21,
   "metadata": {},
   "outputs": [],
   "source": [
    "# FOR USING TWITTER \n",
    "# https://developer.twitter.com/en/apps\n",
    "    \n",
    "from time import sleep\n",
    "from datetime import datetime\n",
    "from textblob import TextBlob\n",
    "import matplotlib.pyplot as plt\n",
    "%matplotlib inline\n",
    "\n"
   ]
  },
  {
   "cell_type": "code",
   "execution_count": 22,
   "metadata": {},
   "outputs": [],
   "source": [
    "consumer_key=\"8B9UTDbcoGExH8D1rJor6Fve1\"\n",
    "consumer_secret=\"Sqdx5M2UdCEwVkpqY1Mf3iYofVTTtWerO6nnr3NH6ZhbDpfrrD\"\n",
    "access_token=\"214049898-941wVc9ENOBfcRIloyXNLLcYTGxDiindseFXx75X\"\n",
    "access_token_secret=\"DqUpZ7DpLLJCSGo4bMEV5AyL0FiZXENJbUNFgN5h1nUjo\""
   ]
  },
  {
   "cell_type": "code",
   "execution_count": 23,
   "metadata": {},
   "outputs": [],
   "source": [
    "auth = tweepy.OAuthHandler(consumer_key, consumer_secret)\n",
    "auth.set_access_token(access_token, access_token_secret)\n",
    "api = tweepy.API(auth)"
   ]
  },
  {
   "cell_type": "code",
   "execution_count": 24,
   "metadata": {},
   "outputs": [
    {
     "name": "stdout",
     "output_type": "stream",
     "text": [
      "Kernel Panic\n"
     ]
    }
   ],
   "source": [
    "print(api.me().name)"
   ]
  },
  {
   "cell_type": "code",
   "execution_count": 25,
   "metadata": {},
   "outputs": [
    {
     "name": "stdout",
     "output_type": "stream",
     "text": [
      " Buscar :data\n"
     ]
    }
   ],
   "source": [
    "palabra = input(\" Buscar :\")"
   ]
  },
  {
   "cell_type": "code",
   "execution_count": 26,
   "metadata": {},
   "outputs": [
    {
     "name": "stdout",
     "output_type": "stream",
     "text": [
      "Numero de tweets a capturar :50\n"
     ]
    }
   ],
   "source": [
    "numero_de_Tweets = int( input(u\"Numero de tweets a capturar :\") )"
   ]
  },
  {
   "cell_type": "code",
   "execution_count": 27,
   "metadata": {},
   "outputs": [
    {
     "name": "stdout",
     "output_type": "stream",
     "text": [
      "Idioma [es/en] : en\n"
     ]
    }
   ],
   "source": [
    "lenguaje= input(\"Idioma [es/en] : \")"
   ]
  },
  {
   "cell_type": "code",
   "execution_count": 31,
   "metadata": {},
   "outputs": [],
   "source": [
    "def ObtenerTweets(palabra=\"Datascience\", times=100, lenguaje=\"en\") :\n",
    "    #Se define las listas que capturan la popularidad\n",
    "    popularidad_list = []\n",
    "    numeros_list = []\n",
    "    numero = 1\n",
    "    for tweet in tweepy.Cursor(api.search, palabra, lang=lenguaje).items(numero_de_Tweets) :\n",
    "        try:\n",
    "            #Se toma el texto, se hace el analisis de sentimiento\n",
    "            #y se agrega el resultado a la Lista\n",
    "            analisis = TextBlob(tweet.text)\n",
    "            analisis = analisis.sentiment\n",
    "            popularidad = analisis.polarity\n",
    "            print(popularidad)\n",
    "            popularidad_list.append(popularidad)\n",
    "            numeros_list.append(numero)\n",
    "            numero = numero + 1\n",
    "            \n",
    "        except tweepy.TweepError as e:\n",
    "            print(e.reason)\n",
    "        except StopIteration:\n",
    "            break\n",
    "    return(numeros_list, popularidad_list, numero)\n"
   ]
  },
  {
   "cell_type": "code",
   "execution_count": 32,
   "metadata": {},
   "outputs": [],
   "source": [
    "def GraficarDatos(numeros_list, popularidad_list, numero):\n",
    "    axes = plt.gca()\n",
    "    axes.set_ylim([-1,2])\n",
    "    \n",
    "    plt.scatter( numeros_list, popularidad_list )\n",
    "    popularidadPromedio = ( sum(popularidad_list) ) / (len(popularidad_list))\n",
    "    popularidadPromedio = \"{0:.0f}%\".format(popularidadPromedio * 100)\n",
    "    time = datetime.now().strftime(\"A : %H:%M\\n E1: %d-%m-yyyy%\")\n",
    "    plt.text(0, 1.25,\n",
    "            \"Sentimiento promedio : \" + str(popularidadPromedio) + \"\\n\" + time,\n",
    "             fontsize = 12,\n",
    "             bbox= dict(facecolor='none',\n",
    "                        edgecolor='black',\n",
    "                        boxstyle='square, pad=1'\n",
    "                       ) )\n",
    "    plt.title(\"Sentimientos sobre \" + palabra + \" en twitter\")\n",
    "    plt.xlabel(\"Numero de tweets\")\n",
    "    plt.ylabel(\"Sentimiento\")\n",
    "    plt.show"
   ]
  },
  {
   "cell_type": "code",
   "execution_count": 33,
   "metadata": {},
   "outputs": [
    {
     "name": "stdout",
     "output_type": "stream",
     "text": [
      "-0.1\n",
      "-1.0\n",
      "0.2\n",
      "0.3181818181818182\n",
      "0.0\n",
      "0.5\n",
      "-0.13\n",
      "0.0\n",
      "0.0\n",
      "0.4\n",
      "0.44583333333333336\n",
      "0.4\n",
      "0.25\n",
      "0.0\n",
      "0.05\n",
      "0.0\n",
      "-0.25\n",
      "0.5\n",
      "0.0\n",
      "0.0\n",
      "0.13636363636363635\n",
      "0.0\n",
      "0.3125\n",
      "0.0\n",
      "0.3\n",
      "0.0\n",
      "-0.25\n",
      "0.13636363636363635\n",
      "0.2\n",
      "0.8\n",
      "0.5\n",
      "0.2\n",
      "0.0\n",
      "-0.06666666666666665\n",
      "0.0\n",
      "-0.037500000000000006\n",
      "0.2\n",
      "0.0\n",
      "0.0\n",
      "0.31666666666666665\n",
      "-0.375\n",
      "0.75\n",
      "0.0\n",
      "0.6\n",
      "0.0\n",
      "-0.004761904761904782\n",
      "0.2875\n",
      "-0.12222222222222223\n",
      "0.0\n",
      "0.0\n"
     ]
    },
    {
     "data": {
      "image/png": "[encoded data removed]",
      "text/plain": [
       "<Figure size 432x288 with 1 Axes>"
      ]
     },
     "metadata": {
      "needs_background": "light"
     },
     "output_type": "display_data"
    }
   ],
   "source": [
    "numeros_list, popularidad_list, numero = ObtenerTweets(palabra, numero_de_Tweets, lenguaje)\n",
    "GraficarDatos(numeros_list , popularidad_list, numero)"
   ]
  }
 ],
 "metadata": {
  "kernelspec": {
   "display_name": "Python 3",
   "language": "python",
   "name": "python3"
  },
  "language_info": {
   "codemirror_mode": {
    "name": "ipython",
    "version": 3
   },
   "file_extension": ".py",
   "mimetype": "text/x-python",
   "name": "python",
   "nbconvert_exporter": "python",
   "pygments_lexer": "ipython3",
   "version": "3.7.4"
  }
 },
 "nbformat": 4,
 "nbformat_minor": 2
}
