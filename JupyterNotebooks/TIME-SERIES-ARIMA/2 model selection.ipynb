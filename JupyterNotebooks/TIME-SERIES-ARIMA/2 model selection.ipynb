{
 "cells": [
  {
   "cell_type": "code",
   "execution_count": 1,
   "metadata": {},
   "outputs": [],
   "source": [
    "import warnings\n",
    "\n",
    "warnings.filterwarnings(\"ignore\") # specify to ignore warning messages\n",
    "\n",
    "import pandas as pd\n",
    "import matplotlib.pyplot as plt\n",
    "import itertools as it\n",
    "import datetime\n",
    "import math\n",
    "\n",
    "import statsmodels.api as sm"
   ]
  },
  {
   "cell_type": "code",
   "execution_count": 2,
   "metadata": {},
   "outputs": [],
   "source": [
    "xl = pd.ExcelFile('input_data.xlsx')\n",
    "\n",
    "data = {sheet_name: xl.parse(sheet_name) for sheet_name in xl.sheet_names}\n",
    "\n",
    "days = ['Mon', 'Tue', 'Wed', 'Thu', 'Fri', 'Sat', 'Sun']\n",
    "\n",
    "res = []\n",
    "\n",
    "for name in xl.sheet_names:\n",
    "    mylist = map(list, zip(*data[name].values))\n",
    "    aux = list(it.chain(*mylist))\n",
    "    del aux[:24]\n",
    "    res.append(aux)\n",
    "\n",
    "res = list(it.chain(*res))\n",
    "\n",
    "days = [days for i in range(0, 4)]\n",
    "days_repeated = days * 4"
   ]
  },
  {
   "cell_type": "code",
   "execution_count": 3,
   "metadata": {},
   "outputs": [
    {
     "name": "stdout",
     "output_type": "stream",
     "text": [
      "[(0, 0, 0), (0, 0, 1), (0, 1, 0), (0, 1, 1), (1, 0, 0), (1, 0, 1), (1, 1, 0), (1, 1, 1)]\n",
      "Examples of parameter combinations for Seasonal ARIMA...\n",
      "SARIMAX: (0, 0, 1) x (0, 0, 1, 168)\n",
      "SARIMAX: (0, 0, 1) x (0, 1, 0, 168)\n",
      "SARIMAX: (0, 1, 0) x (0, 1, 1, 168)\n",
      "SARIMAX: (0, 1, 0) x (1, 0, 0, 168)\n"
     ]
    }
   ],
   "source": [
    "# Tune Seasonal ARIMA model\n",
    "# Define the p, d and q parameters to take any value between 0 and 2\n",
    "p = d = q = range(0,2)\n",
    "\n",
    "# Generate all different combinations of p, q and q triplets\n",
    "pdq = list(it.product(p, d, q))\n",
    "print(pdq)\n",
    "\n",
    "# Generate all different combinations of seasonal p, q and q triplets\n",
    "# Seasonality is one week (24*7 = 168 hours)\n",
    "seasonal_pdq = [(x[0], x[1], x[2], 168) for x in list(it.product(p, d, q))]\n",
    "\n",
    "print('Examples of parameter combinations for Seasonal ARIMA...')\n",
    "print('SARIMAX: {} x {}'.format(pdq[1], seasonal_pdq[1]))\n",
    "print('SARIMAX: {} x {}'.format(pdq[1], seasonal_pdq[2]))\n",
    "print('SARIMAX: {} x {}'.format(pdq[2], seasonal_pdq[3]))\n",
    "print('SARIMAX: {} x {}'.format(pdq[2], seasonal_pdq[4]))"
   ]
  },
  {
   "cell_type": "code",
   "execution_count": null,
   "metadata": {},
   "outputs": [
    {
     "name": "stdout",
     "output_type": "stream",
     "text": [
      "ARIMA(0, 0, 0)x(0, 0, 0, 168)168 - AIC:10097.43\n"
     ]
    },
    {
     "name": "stderr",
     "output_type": "stream",
     "text": [
      "/opt/anaconda3/lib/python3.7/site-packages/statsmodels/base/model.py:512: ConvergenceWarning: Maximum Likelihood optimization failed to converge. Check mle_retvals\n",
      "  \"Check mle_retvals\", ConvergenceWarning)\n"
     ]
    },
    {
     "name": "stdout",
     "output_type": "stream",
     "text": [
      "ARIMA(0, 0, 0)x(0, 0, 1, 168)168 - AIC:18805.88\n",
      "ARIMA(0, 0, 0)x(0, 1, 0, 168)168 - AIC:6053.09\n",
      "error\n",
      "ARIMA(0, 0, 0)x(1, 0, 0, 168)168 - AIC:6050.84\n",
      "ARIMA(0, 0, 0)x(1, 0, 1, 168)168 - AIC:17727.3\n",
      "ARIMA(0, 0, 0)x(1, 1, 0, 168)168 - AIC:3915.73\n",
      "error\n",
      "ARIMA(0, 0, 1)x(0, 0, 0, 168)168 - AIC:9372.44\n",
      "ARIMA(0, 0, 1)x(0, 0, 1, 168)168 - AIC:nan\n",
      "ARIMA(0, 0, 1)x(0, 1, 0, 168)168 - AIC:5953.08\n",
      "error\n",
      "error\n",
      "error\n",
      "error\n",
      "error\n",
      "ARIMA(0, 1, 0)x(0, 0, 0, 168)168 - AIC:9171.21\n",
      "error\n",
      "ARIMA(0, 1, 0)x(0, 1, 0, 168)168 - AIC:6114.69\n",
      "error\n"
     ]
    },
    {
     "name": "stderr",
     "output_type": "stream",
     "text": [
      "/opt/anaconda3/lib/python3.7/site-packages/statsmodels/base/model.py:512: ConvergenceWarning: Maximum Likelihood optimization failed to converge. Check mle_retvals\n",
      "  \"Check mle_retvals\", ConvergenceWarning)\n"
     ]
    },
    {
     "name": "stdout",
     "output_type": "stream",
     "text": [
      "ARIMA(0, 1, 0)x(1, 0, 0, 168)168 - AIC:6121.6\n",
      "error\n",
      "error\n",
      "error\n",
      "ARIMA(0, 1, 1)x(0, 0, 0, 168)168 - AIC:8930.38\n",
      "ARIMA(0, 1, 1)x(0, 0, 1, 168)168 - AIC:nan\n",
      "ARIMA(0, 1, 1)x(0, 1, 0, 168)168 - AIC:6007.22\n",
      "error\n"
     ]
    }
   ],
   "source": [
    "result_list = []\n",
    "\n",
    "for param in pdq:\n",
    "    for param_seasonal in seasonal_pdq:\n",
    "        try:\n",
    "            mod = sm.tsa.statespace.SARIMAX(res,\n",
    "                                            order=param,\n",
    "                                            seasonal_order=param_seasonal,\n",
    "                                            enforce_stationarity=False,\n",
    "                                            enforce_invertibility=False)\n",
    "            results = mod.fit()\n",
    "\n",
    "            print('ARIMA{}x{}168 - AIC:{}'.format(param, param_seasonal, round(results.aic,2)))\n",
    "            result_list.extend([param, param_seasonal, round(results.aic,2)])\n",
    "        except:\n",
    "            print('error')\n",
    "            continue\n",
    "            \n",
    "print('Done!')"
   ]
  }
 ],
 "metadata": {
  "kernelspec": {
   "display_name": "Python 3",
   "language": "python",
   "name": "python3"
  },
  "language_info": {
   "codemirror_mode": {
    "name": "ipython",
    "version": 3
   },
   "file_extension": ".py",
   "mimetype": "text/x-python",
   "name": "python",
   "nbconvert_exporter": "python",
   "pygments_lexer": "ipython3",
   "version": "3.7.4"
  }
 },
 "nbformat": 4,
 "nbformat_minor": 2
}
