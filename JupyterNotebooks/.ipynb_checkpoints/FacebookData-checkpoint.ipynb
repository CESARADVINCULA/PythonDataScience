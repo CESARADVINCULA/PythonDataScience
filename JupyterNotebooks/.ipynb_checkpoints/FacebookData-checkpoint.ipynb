{
 "cells": [
  {
   "cell_type": "code",
   "execution_count": null,
   "metadata": {},
   "outputs": [],
   "source": [
    "#https://developers.facebook.com/apps\n",
    "#https://developers.facebook.com/tools/explorer/\n",
    "#Click on \"Get Token Access\"\n",
    "#Click on the \"Admiration sign icon\" next to the \"Get Token Access\" Button\n",
    "#Click on \"Open in Access Token Too\"\n",
    "#Check Caducidad\t1573686000 (en una hora aproximadamente)"
   ]
  },
  {
   "cell_type": "code",
   "execution_count": 5,
   "metadata": {},
   "outputs": [
    {
     "ename": "KeyError",
     "evalue": "'access_token'",
     "output_type": "error",
     "traceback": [
      "\u001b[0;31m---------------------------------------------------------------------------\u001b[0m",
      "\u001b[0;31mKeyError\u001b[0m                                  Traceback (most recent call last)",
      "\u001b[0;32m<ipython-input-5-4523a89389f4>\u001b[0m in \u001b[0;36m<module>\u001b[0;34m\u001b[0m\n\u001b[1;32m     11\u001b[0m \u001b[0;34m\u001b[0m\u001b[0m\n\u001b[1;32m     12\u001b[0m \u001b[0maccess_token_info\u001b[0m \u001b[0;34m=\u001b[0m \u001b[0mr\u001b[0m\u001b[0;34m.\u001b[0m\u001b[0mjson\u001b[0m\u001b[0;34m(\u001b[0m\u001b[0;34m)\u001b[0m\u001b[0;34m\u001b[0m\u001b[0;34m\u001b[0m\u001b[0m\n\u001b[0;32m---> 13\u001b[0;31m \u001b[0muser_long_token\u001b[0m \u001b[0;34m=\u001b[0m \u001b[0maccess_token_info\u001b[0m\u001b[0;34m[\u001b[0m\u001b[0;34m'access_token'\u001b[0m\u001b[0;34m]\u001b[0m\u001b[0;34m\u001b[0m\u001b[0;34m\u001b[0m\u001b[0m\n\u001b[0m\u001b[1;32m     14\u001b[0m \u001b[0;34m\u001b[0m\u001b[0m\n\u001b[1;32m     15\u001b[0m \u001b[0mprint\u001b[0m\u001b[0;34m(\u001b[0m\u001b[0maccess_token_info\u001b[0m\u001b[0;34m)\u001b[0m\u001b[0;34m\u001b[0m\u001b[0;34m\u001b[0m\u001b[0m\n",
      "\u001b[0;31mKeyError\u001b[0m: 'access_token'"
     ]
    }
   ],
   "source": [
    "#to check connectivy with the Facebook API\n",
    "\n",
    "import requests\n",
    "\n",
    "app_id = '518847322294496'\n",
    "app_secret = '34020341ae6eb5f4e6fe60f8fa10a1d9'\n",
    "user_short_token = 'EAAHX445WiOABAAZASgZAZAXVVzchRBszVgwYRFWe8zmZAzFxiATZAARoBMVTZB55QfGxhHartdfVFuUr7e5MoYrx1dy5uS2m6083w4Oj3qO9grWKtNpkDvZBKg1laKz7U2hvPoiibSHmj4wyIapx5HYpZAwEi4DseUIunRnsHjQYjRDb48Prn3yScGFmhm3tUBroZAJpeYO1fZAHZCm5q6F4ouudNkmLFZAEM3GaVig26AMrlwZDZD'\n",
    "access_token_url = \"https://graph.facebook.com/oauth/access_token?grant_type=fb_exchange_token&client_id={}&client_secret={}&fb_exchange_token={}\".format(app_id, app_secret, user_short_token)\n",
    "\n",
    "r = requests.get(access_token_url)\n",
    "\n",
    "access_token_info = r.json()\n",
    "user_long_token = access_token_info['access_token']\n",
    "\n",
    "print(access_token_info)"
   ]
  },
  {
   "cell_type": "code",
   "execution_count": null,
   "metadata": {},
   "outputs": [],
   "source": [
    "#Open a CMD and execute:\n",
    "#pip install facebook-sdk"
   ]
  },
  {
   "cell_type": "code",
   "execution_count": 35,
   "metadata": {},
   "outputs": [],
   "source": [
    "import facebook\n",
    "\n",
    "graph = facebook.GraphAPI(access_token=user_long_token, version=\"3.1\")"
   ]
  },
  {
   "cell_type": "code",
   "execution_count": 67,
   "metadata": {},
   "outputs": [
    {
     "name": "stdout",
     "output_type": "stream",
     "text": [
      "{'name': 'Israel Advincula', 'id': '1378626348972981'}\n",
      "{'data': []}\n"
     ]
    }
   ],
   "source": [
    "pages_data = graph.get_object(\"/me\")\n",
    "pages_data2 = graph.get_object(\"/me/accounts\")\n",
    "\n",
    "print(pages_data)\n",
    "print(pages_data2)"
   ]
  },
  {
   "cell_type": "code",
   "execution_count": 78,
   "metadata": {},
   "outputs": [
    {
     "name": "stdout",
     "output_type": "stream",
     "text": [
      "{'data': [{'name': 'Business Analytics SAC', 'id': '611621492274597'}, {'name': 'Big Data Analytics Summit', 'id': '1416041548515638'}, {'name': 'Analyticsbi21', 'id': '2363278337282577'}, {'name': 'ATC - Advanced Analytics Technology', 'id': '1747356295387690'}, {'name': 'Analytics Force', 'id': '108414363846985'}, {'name': 'Invian - intelligence Video Analytics', 'id': '135317490345776'}, {'name': 'Penta Analytics SAC (Perú)', 'id': '1048438505326943'}, {'name': 'Geo & Risk Analytics', 'id': '1320335014782811'}, {'name': 'ÁBACO Analytics', 'id': '294519083944708'}, {'name': 'BI Analytics', 'id': '2138548312837641'}, {'name': 'GovAnalytics', 'id': '675449696295085'}, {'name': 'MediAnalytics', 'id': '101019454608882'}, {'name': 'IAnalytics', 'id': '2176383246011306'}, {'name': 'Nihilent Analytics Limited', 'id': '101606154613241'}, {'name': 'Brand Analytics', 'id': '1696168037368126'}, {'name': 'Moodys Analytics', 'id': '345405349179634'}, {'name': 'Pace Analytical', 'id': '338799512840266'}, {'name': 'The Analytics Ias', 'id': '134871483729725'}, {'name': 'Analyticsjobs', 'id': '676161779491376'}, {'name': 'Analytics Quotient', 'id': '568325046532651'}, {'name': 'Bollywood Analytics', 'id': '2040131226067679'}, {'name': 'Business Analytics and Data Science, GSAS, NIDA', 'id': '1716007458700357'}, {'name': 'Analytics India Magazine', 'id': '2574274099262359'}, {'name': 'Create and Learn - Business Intelligence, Analytics, Excel, Power BI', 'id': '650690505298987'}, {'name': 'Globex Analytics', 'id': '408718092659187'}], 'paging': {'cursors': {'after': 'MjQZD'}, 'next': 'https://graph.facebook.com/v5.0/search?access_token=EAAFwrrWdt8oBALU2h6wT0gFwzqkJEhCATpz6gn9uwXe6bFT5NKsZB4sdG37aXRQt5ZCcb9wt4lUaBOGBg4YchuHBvcEzaPofLxoZBkRLlnCBdkQdBrb8EZA5YJsyFgzb7h8rPZC29tZAJFPGKh0Mi5QVm6ZAP76200uT01wjZALqZCOLeVozxkHxYm6z5xd61v9MBdBatyHpEYfZCz9VUeIZCQsVPq6hLxPgU0zP7KK9rQncgZDZD&q=analytics&type=place&limit=25&after=MjQZD'}}\n"
     ]
    }
   ],
   "source": [
    "import facebook\n",
    "aToken = \"EAAFwrrWdt8oBALU2h6wT0gFwzqkJEhCATpz6gn9uwXe6bFT5NKsZB4sdG37aXRQt5ZCcb9wt4lUaBOGBg4YchuHBvcEzaPofLxoZBkRLlnCBdkQdBrb8EZA5YJsyFgzb7h8rPZC29tZAJFPGKh0Mi5QVm6ZAP76200uT01wjZALqZCOLeVozxkHxYm6z5xd61v9MBdBatyHpEYfZCz9VUeIZCQsVPq6hLxPgU0zP7KK9rQncgZDZD\"\n",
    "\n",
    "graph = facebook.GraphAPI(access_token=aToken, version=\"2.10\")\n",
    "data = graph.search(\n",
    "            q='analytics',\n",
    "            type='place'\n",
    "            )\n",
    "print(data)"
   ]
  },
  {
   "cell_type": "code",
   "execution_count": 86,
   "metadata": {},
   "outputs": [
    {
     "name": "stdout",
     "output_type": "stream",
     "text": [
      "{'data': [{'name': 'Business Analytics SAC', 'id': '611621492274597'}, {'name': 'Big Data Analytics Summit', 'id': '1416041548515638'}, {'name': 'Analyticsbi21', 'id': '2363278337282577'}, {'name': 'ATC - Advanced Analytics Technology', 'id': '1747356295387690'}, {'name': 'Analytics Force', 'id': '108414363846985'}, {'name': 'Invian - intelligence Video Analytics', 'id': '135317490345776'}, {'name': 'Penta Analytics SAC (Perú)', 'id': '1048438505326943'}, {'name': 'Geo & Risk Analytics', 'id': '1320335014782811'}, {'name': 'ÁBACO Analytics', 'id': '294519083944708'}, {'name': 'BI Analytics', 'id': '2138548312837641'}, {'name': 'GovAnalytics', 'id': '675449696295085'}, {'name': 'MediAnalytics', 'id': '101019454608882'}, {'name': 'IAnalytics', 'id': '2176383246011306'}, {'name': 'Nihilent Analytics Limited', 'id': '101606154613241'}, {'name': 'Brand Analytics', 'id': '1696168037368126'}, {'name': 'Moodys Analytics', 'id': '345405349179634'}, {'name': 'Pace Analytical', 'id': '338799512840266'}, {'name': 'The Analytics Ias', 'id': '134871483729725'}, {'name': 'Analyticsjobs', 'id': '676161779491376'}, {'name': 'Analytics Quotient', 'id': '568325046532651'}, {'name': 'Bollywood Analytics', 'id': '2040131226067679'}, {'name': 'Business Analytics and Data Science, GSAS, NIDA', 'id': '1716007458700357'}, {'name': 'Analytics India Magazine', 'id': '2574274099262359'}, {'name': 'Create and Learn - Business Intelligence, Analytics, Excel, Power BI', 'id': '650690505298987'}, {'name': 'Globex Analytics', 'id': '408718092659187'}], 'paging': {'cursors': {'after': 'MjQZD'}, 'next': 'https://graph.facebook.com/v5.0/search?access_token=EAAFwrrWdt8oBALU2h6wT0gFwzqkJEhCATpz6gn9uwXe6bFT5NKsZB4sdG37aXRQt5ZCcb9wt4lUaBOGBg4YchuHBvcEzaPofLxoZBkRLlnCBdkQdBrb8EZA5YJsyFgzb7h8rPZC29tZAJFPGKh0Mi5QVm6ZAP76200uT01wjZALqZCOLeVozxkHxYm6z5xd61v9MBdBatyHpEYfZCz9VUeIZCQsVPq6hLxPgU0zP7KK9rQncgZDZD&q=analytics&type=place&limit=25&after=MjQZD'}}\n"
     ]
    }
   ],
   "source": [
    "import facebook\n",
    "aToken = \"EAAFwrrWdt8oBALU2h6wT0gFwzqkJEhCATpz6gn9uwXe6bFT5NKsZB4sdG37aXRQt5ZCcb9wt4lUaBOGBg4YchuHBvcEzaPofLxoZBkRLlnCBdkQdBrb8EZA5YJsyFgzb7h8rPZC29tZAJFPGKh0Mi5QVm6ZAP76200uT01wjZALqZCOLeVozxkHxYm6z5xd61v9MBdBatyHpEYfZCz9VUeIZCQsVPq6hLxPgU0zP7KK9rQncgZDZD\"\n",
    "\n",
    "graph = facebook.GraphAPI(access_token=aToken, version=\"3.1\")\n",
    "data = graph.search(\n",
    "            q='analytics',\n",
    "            type='place'\n",
    "            )\n",
    "print(data)"
   ]
  },
  {
   "cell_type": "code",
   "execution_count": 71,
   "metadata": {},
   "outputs": [
    {
     "name": "stdout",
     "output_type": "stream",
     "text": [
      "{'data': [{'name': 'Facebook Data Science', 'id': '10151981950983415'}, {'name': 'Facebook Data Science', 'id': '1462412747390716'}, {'name': 'Treasure Data', 'id': '871881182886693'}, {'name': 'NTT Data', 'id': '205432886463297'}, {'name': 'University of the Pacific - MS in Data Science', 'id': '791476690946386'}, {'name': 'ClearStory Data', 'id': '494513360644097'}, {'name': 'Kabupaten Tanah Datar', 'id': '600291456674921'}, {'name': 'Hazart Ali Hajwari Ganj Baksh (DATA DARBAR)', 'id': '163824083696282'}, {'name': 'Big Data Analytics, Machine Learning & AI', 'id': '10151277788023431'}, {'name': 'Dataran Merdeka,Kuala Lumpur', 'id': '913534908742703'}, {'name': 'Vantage Data Centers', 'id': '327259750641278'}, {'name': 'Z2data', 'id': '222103148356345'}, {'name': 'Datang Kitchen', 'id': '113461116745782'}, {'name': 'VentureDeal Venture Capital Database', 'id': '10150213615268686'}, {'name': 'LigaData', 'id': '683216161796397'}, {'name': 'Silicon Valley Data Capital', 'id': '101308261298757'}, {'name': 'Brothers datail center Car Wash', 'id': '182317881799142'}, {'name': 'First Data', 'id': '655206984813371'}, {'name': 'DataStax', 'id': '344513285624764'}, {'name': 'ThirdEye Data', 'id': '10150235917665752'}, {'name': 'Data Knox', 'id': '106702327436255'}, {'name': 'FlyData', 'id': '790648470949747'}, {'name': 'Datamart', 'id': '889990711193811'}, {'name': 'Cisco Data and Analytics', 'id': '138543496245663'}, {'name': 'InfluxData', 'id': '490524277784677'}], 'paging': {'cursors': {'after': 'MjQZD'}, 'next': 'https://graph.facebook.com/v5.0/search?access_token=EAAFwrrWdt8oBALU2h6wT0gFwzqkJEhCATpz6gn9uwXe6bFT5NKsZB4sdG37aXRQt5ZCcb9wt4lUaBOGBg4YchuHBvcEzaPofLxoZBkRLlnCBdkQdBrb8EZA5YJsyFgzb7h8rPZC29tZAJFPGKh0Mi5QVm6ZAP76200uT01wjZALqZCOLeVozxkHxYm6z5xd61v9MBdBatyHpEYfZCz9VUeIZCQsVPq6hLxPgU0zP7KK9rQncgZDZD&q=data&type=place&center=37.4845306%2C-122.1498183&limit=25&after=MjQZD'}}\n"
     ]
    }
   ],
   "source": [
    "import facebook\n",
    "aToken = \"EAAFwrrWdt8oBALU2h6wT0gFwzqkJEhCATpz6gn9uwXe6bFT5NKsZB4sdG37aXRQt5ZCcb9wt4lUaBOGBg4YchuHBvcEzaPofLxoZBkRLlnCBdkQdBrb8EZA5YJsyFgzb7h8rPZC29tZAJFPGKh0Mi5QVm6ZAP76200uT01wjZALqZCOLeVozxkHxYm6z5xd61v9MBdBatyHpEYfZCz9VUeIZCQsVPq6hLxPgU0zP7KK9rQncgZDZD\"\n",
    "\n",
    "# Search for places near  in Menlo Park, California.\n",
    "graph = facebook.GraphAPI(access_token=aToken, version=\"2.10\")\n",
    "data = graph.search(\n",
    "            q='data',\n",
    "            center='37.4845306,-122.1498183',\n",
    "            type='place'\n",
    "            )\n",
    "print(data)"
   ]
  },
  {
   "cell_type": "code",
   "execution_count": 97,
   "metadata": {},
   "outputs": [
    {
     "name": "stdout",
     "output_type": "stream",
     "text": [
      "25\n",
      "{'name': 'Business Analytics SAC', 'id': '611621492274597'}\n",
      "{'name': 'Business Analytics SAC', 'id': '611621492274597'}\n",
      "{'name': 'Big Data Analytics Summit', 'id': '1416041548515638'}\n",
      "{'name': 'Analyticsbi21', 'id': '2363278337282577'}\n",
      "{'name': 'ATC - Advanced Analytics Technology', 'id': '1747356295387690'}\n",
      "{'name': 'Analytics Force', 'id': '108414363846985'}\n",
      "{'name': 'Invian - intelligence Video Analytics', 'id': '135317490345776'}\n",
      "{'name': 'Penta Analytics SAC (Perú)', 'id': '1048438505326943'}\n",
      "{'name': 'Geo & Risk Analytics', 'id': '1320335014782811'}\n",
      "{'name': 'ÁBACO Analytics', 'id': '294519083944708'}\n",
      "{'name': 'BI Analytics', 'id': '2138548312837641'}\n",
      "{'name': 'GovAnalytics', 'id': '675449696295085'}\n",
      "{'name': 'MediAnalytics', 'id': '101019454608882'}\n",
      "{'name': 'IAnalytics', 'id': '2176383246011306'}\n",
      "{'name': 'Nihilent Analytics Limited', 'id': '101606154613241'}\n",
      "{'name': 'Brand Analytics', 'id': '1696168037368126'}\n",
      "{'name': 'Moodys Analytics', 'id': '345405349179634'}\n",
      "{'name': 'Pace Analytical', 'id': '338799512840266'}\n",
      "{'name': 'The Analytics Ias', 'id': '134871483729725'}\n",
      "{'name': 'Analyticsjobs', 'id': '676161779491376'}\n",
      "{'name': 'Analytics Quotient', 'id': '568325046532651'}\n",
      "{'name': 'Bollywood Analytics', 'id': '2040131226067679'}\n",
      "{'name': 'Business Analytics and Data Science, GSAS, NIDA', 'id': '1716007458700357'}\n",
      "{'name': 'Analytics India Magazine', 'id': '2574274099262359'}\n",
      "{'name': 'Create and Learn - Business Intelligence, Analytics, Excel, Power BI', 'id': '650690505298987'}\n",
      "{'name': 'Globex Analytics', 'id': '408718092659187'}\n"
     ]
    }
   ],
   "source": [
    "#By Default is getting 25 post\n",
    "print(len(data['data']))\n",
    "print(data['data'][0])\n",
    "\n",
    "#Remember? the data\n",
    "for x in data['data'] :\n",
    "    print(x)"
   ]
  },
  {
   "cell_type": "code",
   "execution_count": 2,
   "metadata": {},
   "outputs": [
    {
     "ename": "NameError",
     "evalue": "name 'graph' is not defined",
     "output_type": "error",
     "traceback": [
      "\u001b[0;31m---------------------------------------------------------------------------\u001b[0m",
      "\u001b[0;31mNameError\u001b[0m                                 Traceback (most recent call last)",
      "\u001b[0;32m<ipython-input-2-8698ab31ff50>\u001b[0m in \u001b[0;36m<module>\u001b[0;34m\u001b[0m\n\u001b[1;32m      1\u001b[0m \u001b[0;31m#Getting 500 Post\u001b[0m\u001b[0;34m\u001b[0m\u001b[0;34m\u001b[0m\u001b[0;34m\u001b[0m\u001b[0m\n\u001b[1;32m      2\u001b[0m \u001b[0;31m#The limit is getting the information\u001b[0m\u001b[0;34m\u001b[0m\u001b[0;34m\u001b[0m\u001b[0;34m\u001b[0m\u001b[0m\n\u001b[0;32m----> 3\u001b[0;31m data2 = graph.search(\n\u001b[0m\u001b[1;32m      4\u001b[0m             \u001b[0mq\u001b[0m\u001b[0;34m=\u001b[0m\u001b[0;34m'data'\u001b[0m\u001b[0;34m,\u001b[0m\u001b[0;34m\u001b[0m\u001b[0;34m\u001b[0m\u001b[0m\n\u001b[1;32m      5\u001b[0m             \u001b[0mcenter\u001b[0m\u001b[0;34m=\u001b[0m\u001b[0;34m'37.4845306,-122.1498183'\u001b[0m\u001b[0;34m,\u001b[0m\u001b[0;34m\u001b[0m\u001b[0;34m\u001b[0m\u001b[0m\n",
      "\u001b[0;31mNameError\u001b[0m: name 'graph' is not defined"
     ]
    }
   ],
   "source": [
    "#Getting 500 Post\n",
    "#The limit is getting the information\n",
    "data2 = graph.search(\n",
    "            q='data',\n",
    "            center='37.4845306,-122.1498183',\n",
    "            type='place',\n",
    "            limit= '70'\n",
    "            )\n",
    "print(data2)"
   ]
  },
  {
   "cell_type": "code",
   "execution_count": 87,
   "metadata": {},
   "outputs": [
    {
     "name": "stdout",
     "output_type": "stream",
     "text": [
      "{'name': 'Israel Advincula', 'id': '1378626348972981'}\n",
      "{'data': []}\n"
     ]
    }
   ],
   "source": [
    "import facebook\n",
    "\n",
    "graph = facebook.GraphAPI(aToken)\n",
    "profile = graph.get_object(\"me\")\n",
    "friends = graph.get_connections(\"me\", \"friends\")\n",
    "print(profile)\n",
    "print(friends)"
   ]
  },
  {
   "cell_type": "code",
   "execution_count": 77,
   "metadata": {},
   "outputs": [],
   "source": [
    "#Check the permissisions\n",
    "#graph.put_object(\"me\", \"feed\", message=\"I am writing on my wall!\")"
   ]
  },
  {
   "cell_type": "code",
   "execution_count": 89,
   "metadata": {},
   "outputs": [
    {
     "name": "stdout",
     "output_type": "stream",
     "text": [
      "{'name': 'Israel Advincula', 'id': '1378626348972981'}\n"
     ]
    }
   ],
   "source": [
    "page_id =\"1378626348972981\"\n",
    "default_info = graph.get_object(id=page_id)\n",
    "\n",
    "print(default_info)"
   ]
  },
  {
   "cell_type": "code",
   "execution_count": 90,
   "metadata": {},
   "outputs": [
    {
     "name": "stdout",
     "output_type": "stream",
     "text": [
      "{'id': '1378626348972981'}\n"
     ]
    }
   ],
   "source": [
    "some_info = graph.get_object(id=page_id, fields='about, website')\n",
    "print(some_info)"
   ]
  },
  {
   "cell_type": "code",
   "execution_count": 91,
   "metadata": {},
   "outputs": [
    {
     "name": "stdout",
     "output_type": "stream",
     "text": [
      "{'data': [], 'paging': {'previous': 'https://graph.facebook.com/v2.8/1378626348972981/insights?metric=page_impressions&date_preset=yesterday&period=week&show_description_from_api_doc=True&access_token=EAAFwrrWdt8oBALU2h6wT0gFwzqkJEhCATpz6gn9uwXe6bFT5NKsZB4sdG37aXRQt5ZCcb9wt4lUaBOGBg4YchuHBvcEzaPofLxoZBkRLlnCBdkQdBrb8EZA5YJsyFgzb7h8rPZC29tZAJFPGKh0Mi5QVm6ZAP76200uT01wjZALqZCOLeVozxkHxYm6z5xd61v9MBdBatyHpEYfZCz9VUeIZCQsVPq6hLxPgU0zP7KK9rQncgZDZD&since=1572992614&until=1573251814', 'next': 'https://graph.facebook.com/v2.8/1378626348972981/insights?metric=page_impressions&date_preset=yesterday&period=week&show_description_from_api_doc=True&access_token=EAAFwrrWdt8oBALU2h6wT0gFwzqkJEhCATpz6gn9uwXe6bFT5NKsZB4sdG37aXRQt5ZCcb9wt4lUaBOGBg4YchuHBvcEzaPofLxoZBkRLlnCBdkQdBrb8EZA5YJsyFgzb7h8rPZC29tZAJFPGKh0Mi5QVm6ZAP76200uT01wjZALqZCOLeVozxkHxYm6z5xd61v9MBdBatyHpEYfZCz9VUeIZCQsVPq6hLxPgU0zP7KK9rQncgZDZD&since=1573511014&until=1573770214'}}\n"
     ]
    }
   ],
   "source": [
    "page_impressions = graph.get_connections(id=page_id,\n",
    "                                         connection_name='insights',\n",
    "                                         metric='page_impressions',\n",
    "                                         date_preset='yesterday',\n",
    "                                         period='week',\n",
    "                                         show_description_from_api_doc=True)\n",
    "print(page_impressions)"
   ]
  },
  {
   "cell_type": "code",
   "execution_count": 92,
   "metadata": {},
   "outputs": [
    {
     "name": "stdout",
     "output_type": "stream",
     "text": [
      "{'id': '1378626348972981'}\n"
     ]
    }
   ],
   "source": [
    "posts_25 = graph.get_object(id=page_id,\n",
    "                            fields='posts.fields(type, name, created_time, object_id)')\n",
    "print(posts_25)"
   ]
  },
  {
   "cell_type": "code",
   "execution_count": null,
   "metadata": {},
   "outputs": [],
   "source": [
    "#For more detail:\n",
    "# https://facebook-sdk.readthedocs.io/en/latest/\n"
   ]
  }
 ],
 "metadata": {
  "kernelspec": {
   "display_name": "Python 3",
   "language": "python",
   "name": "python3"
  },
  "language_info": {
   "codemirror_mode": {
    "name": "ipython",
    "version": 3
   },
   "file_extension": ".py",
   "mimetype": "text/x-python",
   "name": "python",
   "nbconvert_exporter": "python",
   "pygments_lexer": "ipython3",
   "version": "3.7.4"
  }
 },
 "nbformat": 4,
 "nbformat_minor": 2
}
